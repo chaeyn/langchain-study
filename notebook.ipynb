{
 "cells": [
  {
   "cell_type": "code",
   "execution_count": 49,
   "id": "59641cb3",
   "metadata": {},
   "outputs": [],
   "source": [
    "from langchain.chat_models import ChatOpenAI\n",
    "from langchain.prompts import PromptTemplate, ChatPromptTemplate\n",
    "\n",
    "chat = ChatOpenAI(model=\"gpt-4.1-nano\", temperature=0.7, max_tokens=300)"
   ]
  },
  {
   "cell_type": "code",
   "execution_count": 50,
   "id": "ff125730",
   "metadata": {},
   "outputs": [],
   "source": [
    "from langchain.schema import BaseOutputParser\n",
    "\n",
    "class CommaOutParser(BaseOutputParser):\n",
    "    def parse(self, text):\n",
    "        items = text.strip().split(\",\") # 텍스트 앞뒤 공백 제거, 쉼표로 분리하여 리스트 반환\n",
    "        return (list(map(str.strip, items))) # 각 아이템의 앞뒤 공백 제거\n"
   ]
  },
  {
   "cell_type": "code",
   "execution_count": 51,
   "id": "698bf2a3",
   "metadata": {},
   "outputs": [
    {
     "data": {
      "text/plain": [
       "['빨강',\n",
       " '주황',\n",
       " '노랑',\n",
       " '초록',\n",
       " '파랑',\n",
       " '남색',\n",
       " '보라',\n",
       " '분홍',\n",
       " '흰색',\n",
       " '검은색',\n",
       " '회색',\n",
       " '갈색',\n",
       " '연두',\n",
       " '청록',\n",
       " '마젠타',\n",
       " '자주색',\n",
       " '베이지',\n",
       " '크림색',\n",
       " '살구색',\n",
       " '청색',\n",
       " '라벤더',\n",
       " '민트',\n",
       " '버건디',\n",
       " '와인',\n",
       " '머스타드',\n",
       " '올리브',\n",
       " '카키',\n",
       " '살구',\n",
       " '펜슬',\n",
       " '사파이어']"
      ]
     },
     "execution_count": 51,
     "metadata": {},
     "output_type": "execute_result"
    }
   ],
   "source": [
    "template = ChatPromptTemplate.from_messages(\n",
    "    [\n",
    "        (\n",
    "            \"system\",\n",
    "            \"당신은 목록 생성기입니다. 요청받은 모든 내용은 최대 {max_items}개의 쉼표로 구분된 목록으로 응답해야 합니다. 다른 어떤 것도 응답하지 마십시오.\",\n",
    "        ),\n",
    "        (\"human\", \"{question}\"),\n",
    "    ]\n",
    ")\n",
    "\n",
    "chain = template | chat | CommaOutParser()\n",
    "chain.invoke({\"question\": \"색깔의 이름을 알려주세요\", \"max_items\": 30})"
   ]
  }
 ],
 "metadata": {
  "kernelspec": {
   "display_name": "env",
   "language": "python",
   "name": "python3"
  },
  "language_info": {
   "codemirror_mode": {
    "name": "ipython",
    "version": 3
   },
   "file_extension": ".py",
   "mimetype": "text/x-python",
   "name": "python",
   "nbconvert_exporter": "python",
   "pygments_lexer": "ipython3",
   "version": "3.11.6"
  }
 },
 "nbformat": 4,
 "nbformat_minor": 5
}
