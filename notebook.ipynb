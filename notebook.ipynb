{
 "cells": [
  {
   "cell_type": "code",
   "execution_count": null,
   "id": "d4abe23c",
   "metadata": {},
   "outputs": [
    {
     "data": {
      "text/plain": [
       "'2023년 기준으로 한국에는 초등학교, 중학교, 고등학교, 특수학교 등 다양한 유형의 학교가 운영되고 있습니다. 대략적인 수치는 다음과 같습니다:\\n\\n- 초등학교: 약 5,600개\\n- 중학교: 약 3,400개\\n- 고등학교: 약 2,100개\\n- 특수학교 및 기타 교육기관: 수백 개\\n\\n이 수치는 매년 변동될 수 있으며, 정확한 최신 통계는 교육부 또는 한국교육개발원 등의 공식 자료를 참고하는 것이 좋습니다.'"
      ]
     },
     "execution_count": 4,
     "metadata": {},
     "output_type": "execute_result"
    }
   ],
   "source": [
    "from langchain.chat_models import ChatOpenAI\n",
    "\n",
    "chat = ChatOpenAI(model_name=\"gpt-4.1-nano\")\n",
    "\n",
    "a = chat.predict(\"한국에는 얼마나 많은 학교가 있나요?\")\n",
    "\n",
    "a"
   ]
  }
 ],
 "metadata": {
  "kernelspec": {
   "display_name": "env",
   "language": "python",
   "name": "python3"
  },
  "language_info": {
   "codemirror_mode": {
    "name": "ipython",
    "version": 3
   },
   "file_extension": ".py",
   "mimetype": "text/x-python",
   "name": "python",
   "nbconvert_exporter": "python",
   "pygments_lexer": "ipython3",
   "version": "3.11.6"
  }
 },
 "nbformat": 4,
 "nbformat_minor": 5
}
