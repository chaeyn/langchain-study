{
 "cells": [
  {
   "cell_type": "code",
   "execution_count": 2,
   "id": "59641cb3",
   "metadata": {},
   "outputs": [],
   "source": [
    "from langchain.chat_models import ChatOpenAI\n",
    "\n",
    "chat = ChatOpenAI(model=\"gpt-4.1-nano\")"
   ]
  },
  {
   "cell_type": "code",
   "execution_count": null,
   "id": "883b7e4d",
   "metadata": {},
   "outputs": [
    {
     "data": {
      "text/plain": [
       "AIMessage(content='태국과 한국 사이의 직선 거리는 약 3,000킬로미터에서 3,500킬로미터 정도입니다. 두 나라를 연결하는 거리는 출발지와 도착지에 따라 다를 수 있습니다. 제 이름은 지피티입니다!')"
      ]
     },
     "execution_count": 3,
     "metadata": {},
     "output_type": "execute_result"
    }
   ],
   "source": [
    "from langchain.schema import HumanMessage, AIMessage, SystemMessage\n",
    "\n",
    "messages = [\n",
    "    SystemMessage(\n",
    "        content=\"You are a geography expert. And you only reply in Korean.\",\n",
    "    ),\n",
    "    AIMessage(content=\"안녕하세요, 제 이름은 지피티 입니다!\"),\n",
    "    HumanMessage(\n",
    "        content=\"What is the distance between Thailand and Korea? Also, what is your name?\",\n",
    "    ),\n",
    "]\n",
    "\n",
    "chat.predict_messages(messages)"
   ]
  }
 ],
 "metadata": {
  "kernelspec": {
   "display_name": "env",
   "language": "python",
   "name": "python3"
  },
  "language_info": {
   "codemirror_mode": {
    "name": "ipython",
    "version": 3
   },
   "file_extension": ".py",
   "mimetype": "text/x-python",
   "name": "python",
   "nbconvert_exporter": "python",
   "pygments_lexer": "ipython3",
   "version": "3.11.6"
  }
 },
 "nbformat": 4,
 "nbformat_minor": 5
}
